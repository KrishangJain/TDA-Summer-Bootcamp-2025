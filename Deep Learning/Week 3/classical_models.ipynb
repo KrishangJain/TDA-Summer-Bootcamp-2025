{
 "cells": [
  {
   "cell_type": "code",
   "execution_count": 1,
   "id": "362f0de3-b07e-486b-bc93-1f5f87c8a1df",
   "metadata": {},
   "outputs": [],
   "source": [
    "import os\n",
    "import numpy as np\n",
    "import tensorflow as tf\n",
    "from sklearn.ensemble import RandomForestClassifier\n",
    "from sklearn.svm import SVC\n",
    "from sklearn.metrics import accuracy_score, precision_score, recall_score\n",
    "import pandas as pd"
   ]
  },
  {
   "cell_type": "code",
   "execution_count": 2,
   "id": "faebab6b-7151-474b-b56a-f996a0ccfc8b",
   "metadata": {},
   "outputs": [
    {
     "name": "stdout",
     "output_type": "stream",
     "text": [
      "Found 536 files belonging to 6 classes.\n"
     ]
    }
   ],
   "source": [
    "dataset = tf.keras.utils.image_dataset_from_directory(\n",
    "    'data',\n",
    "    image_size=(224, 224),\n",
    "    batch_size=32,\n",
    "    shuffle=True\n",
    ")\n",
    "dataset = dataset.map(lambda x, y: (x / 255.0, y))"
   ]
  },
  {
   "cell_type": "code",
   "execution_count": 5,
   "id": "302820bb-dea9-4bd7-ba66-2b127467cb92",
   "metadata": {},
   "outputs": [
    {
     "name": "stdout",
     "output_type": "stream",
     "text": [
      "Image shape before flattening: (536, 224, 224, 3)\n"
     ]
    }
   ],
   "source": [
    "X_data, y_data = [], []\n",
    "for batch in dataset:\n",
    "    X, y = batch\n",
    "    X_data.append(X.numpy())\n",
    "    y_data.append(y.numpy())\n",
    "X_data = np.concatenate(X_data)\n",
    "y_data = np.concatenate(y_data)\n",
    "print(\"Image shape before flattening:\", X_data.shape)"
   ]
  },
  {
   "cell_type": "code",
   "execution_count": 7,
   "id": "e2fbefbf-f1b3-4d32-9c80-f8fe890da497",
   "metadata": {},
   "outputs": [
    {
     "name": "stdout",
     "output_type": "stream",
     "text": [
      "Shape after flattening: (536, 150528)\n"
     ]
    }
   ],
   "source": [
    "X_flat = X_data.reshape(len(X_data), -1)\n",
    "print(\"Shape after flattening:\", X_flat.shape)"
   ]
  },
  {
   "cell_type": "code",
   "execution_count": 9,
   "id": "04a7cb71-7e29-4479-9c49-1dda64644262",
   "metadata": {},
   "outputs": [],
   "source": [
    "from sklearn.model_selection import train_test_split\n",
    "X_train, X_test, y_train, y_test = train_test_split(\n",
    "    X_flat, y_data, test_size=0.2, random_state=42, stratify=y_data)"
   ]
  },
  {
   "cell_type": "code",
   "execution_count": 11,
   "id": "edffa495-495a-45f4-b65d-e39540e6bd84",
   "metadata": {},
   "outputs": [],
   "source": [
    "models = {\n",
    "    \"RandomForest\": RandomForestClassifier(n_estimators=100),\n",
    "    \"SVM\": SVC()\n",
    "}\n",
    "results = []"
   ]
  },
  {
   "cell_type": "code",
   "execution_count": 13,
   "id": "742d79cc-9032-4e4f-9580-ba6ada8a5ea6",
   "metadata": {},
   "outputs": [
    {
     "name": "stdout",
     "output_type": "stream",
     "text": [
      "\n",
      "Training RandomForest...\n",
      "RandomForest => Precision: 0.7318, Recall: 0.7315, Accuracy: 0.7315\n",
      "\n",
      "Training SVM...\n",
      "SVM => Precision: 0.7809, Recall: 0.7593, Accuracy: 0.7593\n"
     ]
    }
   ],
   "source": [
    "for name, clf in models.items():\n",
    "    print(f\"Training {name}...\")\n",
    "    clf.fit(X_train, y_train)\n",
    "    y_pred = clf.predict(X_test)\n",
    "    precision = precision_score(y_test, y_pred, average='weighted', zero_division=0)\n",
    "    recall = recall_score(y_test, y_pred, average='weighted', zero_division=0)\n",
    "    accuracy = accuracy_score(y_test, y_pred)\n",
    "    print(f\"{name} => Precision: {precision:.4f}, Recall: {recall:.4f}, Accuracy: {accuracy:.4f}\\n\")\n",
    "    results.append((name, precision, recall, accuracy))"
   ]
  },
  {
   "cell_type": "code",
   "execution_count": 17,
   "id": "6a8bf9cd-719b-4a25-8d1c-2264bf202bef",
   "metadata": {},
   "outputs": [
    {
     "name": "stdout",
     "output_type": "stream",
     "text": [
      "          Model  Precision    Recall  Accuracy\n",
      "0  RandomForest   0.731790  0.731481  0.731481\n",
      "1           SVM   0.780945  0.759259  0.759259\n"
     ]
    }
   ],
   "source": [
    "df = pd.DataFrame(results, columns=[\"Model\", \"Precision\", \"Recall\", \"Accuracy\"])\n",
    "print(df)\n",
    "df.to_csv(\"classical_model_results.csv\", index=False)"
   ]
  }
 ],
 "metadata": {
  "kernelspec": {
   "display_name": "Python [conda env:base] *",
   "language": "python",
   "name": "conda-base-py"
  },
  "language_info": {
   "codemirror_mode": {
    "name": "ipython",
    "version": 3
   },
   "file_extension": ".py",
   "mimetype": "text/x-python",
   "name": "python",
   "nbconvert_exporter": "python",
   "pygments_lexer": "ipython3",
   "version": "3.12.7"
  }
 },
 "nbformat": 4,
 "nbformat_minor": 5
}
